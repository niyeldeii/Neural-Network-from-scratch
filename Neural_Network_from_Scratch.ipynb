{
  "nbformat": 4,
  "nbformat_minor": 0,
  "metadata": {
    "colab": {
      "provenance": [],
      "authorship_tag": "ABX9TyNhyTBy4X6E6jwWnAj/XuW0",
      "include_colab_link": true
    },
    "kernelspec": {
      "name": "python3",
      "display_name": "Python 3"
    },
    "language_info": {
      "name": "python"
    }
  },
  "cells": [
    {
      "cell_type": "markdown",
      "metadata": {
        "id": "view-in-github",
        "colab_type": "text"
      },
      "source": [
        "<a href=\"https://colab.research.google.com/github/niyeldeii/Neural-Network-from-scratch/blob/main/Neural_Network_from_Scratch.ipynb\" target=\"_parent\"><img src=\"https://colab.research.google.com/assets/colab-badge.svg\" alt=\"Open In Colab\"/></a>"
      ]
    },
    {
      "cell_type": "markdown",
      "source": [
        "Implementing a Neural Network from Scratch"
      ],
      "metadata": {
        "id": "TVw7hzl06js4"
      }
    },
    {
      "cell_type": "markdown",
      "source": [
        "First we start with, implementing a Neuron in NumPy with a Sigmoid Activation Function\n",
        "Parameters:\n",
        "\n",
        "\n",
        "*   \tWeights (w): [0,4]\n",
        "*  Bias (b): 2.5\n",
        "\n",
        "*  Input (x): [6,7]\n",
        "\n",
        "\n",
        "\n",
        "\n"
      ],
      "metadata": {
        "id": "1SRr8RYC3pMR"
      }
    },
    {
      "cell_type": "code",
      "source": [
        "import numpy as np\n",
        "def sigmoid(x):\n",
        "  #formula for sigmoid is (1)/(1+(e^-(x))\n",
        "  return 1/(1+np.exp(-x))\n",
        "\n",
        "class Neuron:\n",
        "  def __init__(self, weights, bias):\n",
        "    self.weights = weights\n",
        "    self.bias = bias\n",
        "\n",
        "  def feedforward(self, inputs):\n",
        "    total = np.dot(self.weights, inputs) + self.bias\n",
        "    return sigmoid(total)\n",
        "\n",
        "weights=np.array([0,4])\n",
        "bias=2.5\n",
        "n=Neuron(weights,bias)\n",
        "x=np.array([6,7])\n",
        "print(n.feedforward(x))\n",
        "\n"
      ],
      "metadata": {
        "colab": {
          "base_uri": "https://localhost:8080/"
        },
        "id": "VzOJTPAVxa-r",
        "outputId": "bd5e0f13-989f-4349-a21f-d412916e947d"
      },
      "execution_count": 8,
      "outputs": [
        {
          "output_type": "stream",
          "name": "stdout",
          "text": [
            "0.9999999999999432\n"
          ]
        }
      ]
    },
    {
      "cell_type": "markdown",
      "source": [
        "Now let's build a neural network with:\n",
        "  - 4 inputs\n",
        "  - a hidden layer with 2 neurons (h1, h2,)\n",
        "  - an output layer with 1 neuron (o1)\n",
        "  Each neuron has the same weights and bias:\n",
        "    - w = [4, 9]\n",
        "    - b = 1"
      ],
      "metadata": {
        "id": "3Un62eom7Tx6"
      }
    },
    {
      "cell_type": "code",
      "source": [
        "class TheNeuralNetwork:\n",
        "  def __init__(self, weights, bias):\n",
        "    self.weights=weights\n",
        "    self.bias=bias\n",
        "    self.h1=Neuron(weights,bias)\n",
        "    self.h2=Neuron(weights,bias)\n",
        "    self.h3=Neuron(weights,bias)\n",
        "    self.h4=Neuron(weights,bias)\n",
        "    self.o1=Neuron(weights,bias)\n",
        "  def feedforward(self, x):\n",
        "    out_h1=self.h1.feedforward(x)\n",
        "    out_h2=self.h2.feedforward(x)\n",
        "    out_o1=self.o1.feedforward(np.array([out_h1, out_h2,]))\n",
        "    hidden_outputs = np.array([out_h1, out_h2])\n",
        "    out_o1 = self.o1.feedforward(hidden_outputs)\n",
        "    return out_o1\n",
        "\n",
        "nn=TheNeuralNetwork(weights,bias)\n",
        "x= np.array([2,3])\n",
        "print(nn.feedforward(x))"
      ],
      "metadata": {
        "colab": {
          "base_uri": "https://localhost:8080/"
        },
        "id": "VorjJ-pB65Q3",
        "outputId": "1d65cdcc-f03e-4423-c1a6-8b9b03e552ad"
      },
      "execution_count": 9,
      "outputs": [
        {
          "output_type": "stream",
          "name": "stdout",
          "text": [
            "0.9984988147193368\n"
          ]
        }
      ]
    },
    {
      "cell_type": "markdown",
      "source": [
        "Now let's train our Neural Network to Predict car type given the age and annual income in thousands\n",
        "![image.png](data:image/png;base64,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)"
      ],
      "metadata": {
        "id": "-WRGLjdQBclx"
      }
    },
    {
      "cell_type": "code",
      "source": [
        "#first we normalize data by subtractking the mean from age and annual income\n",
        "import numpy as np\n",
        "\n",
        "# Define the dataset\n",
        "ages = np.array([36, 29, 60, 40])\n",
        "annual_incomes = np.array([85, 55, 100, 60])\n",
        "\n",
        "# Calculate the mean for each column\n",
        "mean_age = np.mean(ages)\n",
        "mean_income = np.mean(annual_incomes)\n",
        "\n",
        "# Normalize the data by subtracting the mean\n",
        "normalized_ages = ages - mean_age\n",
        "normalized_incomes = annual_incomes - mean_income\n",
        "\n",
        "# Output the normalized values\n",
        "normalized_ages, normalized_incomes\n"
      ],
      "metadata": {
        "colab": {
          "base_uri": "https://localhost:8080/"
        },
        "id": "o83LKjub_E64",
        "outputId": "747ee639-0c93-4bfe-e1dd-0876ebd5668a"
      },
      "execution_count": 10,
      "outputs": [
        {
          "output_type": "execute_result",
          "data": {
            "text/plain": [
              "(array([ -5.25, -12.25,  18.75,  -1.25]), array([ 10., -20.,  25., -15.]))"
            ]
          },
          "metadata": {},
          "execution_count": 10
        }
      ]
    },
    {
      "cell_type": "markdown",
      "source": [
        "building a neural network to do the prediction using the normalized data"
      ],
      "metadata": {
        "id": "eWXUfKggJMdx"
      }
    },
    {
      "cell_type": "code",
      "source": [
        "def derivative_sigmoid(x):\n",
        "    return sigmoid(x) * (1 - sigmoid(x))\n",
        "\n",
        "def sigmoid(x):\n",
        "    return 1 / (1 + np.exp(-x))\n",
        "\n",
        "def mse_loss(y_true, y_pred): #defining the loss function using mean squared error\n",
        "    return ((y_true - y_pred) ** 2).mean() #y_true is the true value while y_pred is the predicted value\n",
        "\n",
        "class NeuralNetwork:\n",
        "  def __init__(self):\n",
        "    self.w1"
      ],
      "metadata": {
        "id": "-Qq7mQ70JLkp"
      },
      "execution_count": 11,
      "outputs": []
    }
  ]
}